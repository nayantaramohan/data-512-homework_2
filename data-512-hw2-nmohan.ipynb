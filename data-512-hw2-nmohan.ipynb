{
 "cells": [
  {
   "cell_type": "markdown",
   "id": "15c7ce81",
   "metadata": {},
   "source": [
    "# Homework 2\n",
    "The goal of this assignment is to explore the concept of bias in data using Wikipedia articles. This assignment will consider articles on political figures from different countries. For this assignment, you will combine a dataset of Wikipedia articles with a dataset of country populations, and use a machine learning service called ORES to estimate the quality of each article.\n"
   ]
  },
  {
   "cell_type": "markdown",
   "id": "17af0ab0",
   "metadata": {},
   "source": [
    "# Step 1: Getting the Article and Population Data\n",
    "The first step is getting the data, which lives in several different places. You will need data that lists Wikipedia articles of politicians and data for country populations.\n",
    "\n",
    "The Wikipedia [Category:Politicians by nationality](https://en.wikipedia.org/wiki/Category:Politicians_by_nationality) was crawled to generate a list of Wikipedia article pages about politicians from a wide range of countries. This data is in the homework folder as politicians_by_country.SEPT.2022.csv.\n",
    "\n",
    "The population data is available in CSV format as population_by_country_2022.csv from the homework folder. This dataset is drawn from the [world population data sheet](https://www.prb.org/international/indicator/population/table) published by the Population Reference Bureau."
   ]
  },
  {
   "cell_type": "markdown",
   "id": "79ed409d",
   "metadata": {},
   "source": [
    "### 1a) Importing the required libraries"
   ]
  },
  {
   "cell_type": "code",
   "execution_count": 1,
   "id": "faa4b7f0",
   "metadata": {},
   "outputs": [],
   "source": [
    "import json, time, urllib.parse\n",
    "import requests\n",
    "import pandas as pd\n",
    "import numpy as np\n",
    "import matplotlib.pyplot as plt\n",
    "\n",
    "# check if any of the libs are not being in use."
   ]
  },
  {
   "cell_type": "markdown",
   "id": "d1e840a0",
   "metadata": {},
   "source": [
    "### 1b) Loading the clean .csv files into dataframes"
   ]
  },
  {
   "cell_type": "code",
   "execution_count": 71,
   "id": "08db9d10",
   "metadata": {},
   "outputs": [],
   "source": [
    "df_pol = pd.read_csv('politicians_by_country_SEPT.2022.csv')\n",
    "df_pop = pd.read_csv('population_by_country_2022.csv')"
   ]
  },
  {
   "cell_type": "markdown",
   "id": "6e14ea71",
   "metadata": {},
   "source": [
    "- politicians by country is saved into a dataframe called *df_pol*\n",
    "- population by country is saved into a dataframe called *df_pop*"
   ]
  },
  {
   "cell_type": "code",
   "execution_count": 72,
   "id": "2bb899e5",
   "metadata": {},
   "outputs": [
    {
     "data": {
      "text/html": [
       "<div>\n",
       "<style scoped>\n",
       "    .dataframe tbody tr th:only-of-type {\n",
       "        vertical-align: middle;\n",
       "    }\n",
       "\n",
       "    .dataframe tbody tr th {\n",
       "        vertical-align: top;\n",
       "    }\n",
       "\n",
       "    .dataframe thead th {\n",
       "        text-align: right;\n",
       "    }\n",
       "</style>\n",
       "<table border=\"1\" class=\"dataframe\">\n",
       "  <thead>\n",
       "    <tr style=\"text-align: right;\">\n",
       "      <th></th>\n",
       "      <th>name</th>\n",
       "      <th>url</th>\n",
       "      <th>country</th>\n",
       "    </tr>\n",
       "  </thead>\n",
       "  <tbody>\n",
       "    <tr>\n",
       "      <th>0</th>\n",
       "      <td>Shahjahan Noori</td>\n",
       "      <td>https://en.wikipedia.org/wiki/Shahjahan_Noori</td>\n",
       "      <td>Afghanistan</td>\n",
       "    </tr>\n",
       "    <tr>\n",
       "      <th>1</th>\n",
       "      <td>Abdul Ghafar Lakanwal</td>\n",
       "      <td>https://en.wikipedia.org/wiki/Abdul_Ghafar_Lak...</td>\n",
       "      <td>Afghanistan</td>\n",
       "    </tr>\n",
       "    <tr>\n",
       "      <th>2</th>\n",
       "      <td>Majah Ha Adrif</td>\n",
       "      <td>https://en.wikipedia.org/wiki/Majah_Ha_Adrif</td>\n",
       "      <td>Afghanistan</td>\n",
       "    </tr>\n",
       "    <tr>\n",
       "      <th>3</th>\n",
       "      <td>Haroon al-Afghani</td>\n",
       "      <td>https://en.wikipedia.org/wiki/Haroon_al-Afghani</td>\n",
       "      <td>Afghanistan</td>\n",
       "    </tr>\n",
       "    <tr>\n",
       "      <th>4</th>\n",
       "      <td>Tayyab Agha</td>\n",
       "      <td>https://en.wikipedia.org/wiki/Tayyab_Agha</td>\n",
       "      <td>Afghanistan</td>\n",
       "    </tr>\n",
       "  </tbody>\n",
       "</table>\n",
       "</div>"
      ],
      "text/plain": [
       "                    name                                                url  \\\n",
       "0        Shahjahan Noori      https://en.wikipedia.org/wiki/Shahjahan_Noori   \n",
       "1  Abdul Ghafar Lakanwal  https://en.wikipedia.org/wiki/Abdul_Ghafar_Lak...   \n",
       "2         Majah Ha Adrif       https://en.wikipedia.org/wiki/Majah_Ha_Adrif   \n",
       "3      Haroon al-Afghani    https://en.wikipedia.org/wiki/Haroon_al-Afghani   \n",
       "4            Tayyab Agha          https://en.wikipedia.org/wiki/Tayyab_Agha   \n",
       "\n",
       "       country  \n",
       "0  Afghanistan  \n",
       "1  Afghanistan  \n",
       "2  Afghanistan  \n",
       "3  Afghanistan  \n",
       "4  Afghanistan  "
      ]
     },
     "execution_count": 72,
     "metadata": {},
     "output_type": "execute_result"
    }
   ],
   "source": [
    "df_pol.head()\n",
    "# viewing a snapshot of the dataframe loaded"
   ]
  },
  {
   "cell_type": "code",
   "execution_count": 73,
   "id": "227eedb2",
   "metadata": {},
   "outputs": [
    {
     "data": {
      "text/html": [
       "<div>\n",
       "<style scoped>\n",
       "    .dataframe tbody tr th:only-of-type {\n",
       "        vertical-align: middle;\n",
       "    }\n",
       "\n",
       "    .dataframe tbody tr th {\n",
       "        vertical-align: top;\n",
       "    }\n",
       "\n",
       "    .dataframe thead th {\n",
       "        text-align: right;\n",
       "    }\n",
       "</style>\n",
       "<table border=\"1\" class=\"dataframe\">\n",
       "  <thead>\n",
       "    <tr style=\"text-align: right;\">\n",
       "      <th></th>\n",
       "      <th>Geography</th>\n",
       "      <th>Population (millions)</th>\n",
       "    </tr>\n",
       "  </thead>\n",
       "  <tbody>\n",
       "    <tr>\n",
       "      <th>0</th>\n",
       "      <td>WORLD</td>\n",
       "      <td>7963.0</td>\n",
       "    </tr>\n",
       "    <tr>\n",
       "      <th>1</th>\n",
       "      <td>AFRICA</td>\n",
       "      <td>1419.0</td>\n",
       "    </tr>\n",
       "    <tr>\n",
       "      <th>2</th>\n",
       "      <td>NORTHERN AFRICA</td>\n",
       "      <td>251.0</td>\n",
       "    </tr>\n",
       "    <tr>\n",
       "      <th>3</th>\n",
       "      <td>Algeria</td>\n",
       "      <td>44.9</td>\n",
       "    </tr>\n",
       "    <tr>\n",
       "      <th>4</th>\n",
       "      <td>Egypt</td>\n",
       "      <td>103.5</td>\n",
       "    </tr>\n",
       "  </tbody>\n",
       "</table>\n",
       "</div>"
      ],
      "text/plain": [
       "         Geography  Population (millions)\n",
       "0            WORLD                 7963.0\n",
       "1           AFRICA                 1419.0\n",
       "2  NORTHERN AFRICA                  251.0\n",
       "3          Algeria                   44.9\n",
       "4            Egypt                  103.5"
      ]
     },
     "execution_count": 73,
     "metadata": {},
     "output_type": "execute_result"
    }
   ],
   "source": [
    "df_pop.head()\n",
    "# viewing a snapshot of the dataframe loaded"
   ]
  },
  {
   "cell_type": "markdown",
   "id": "c41718c5",
   "metadata": {},
   "source": [
    "### 1c) Data Cleaning"
   ]
  },
  {
   "cell_type": "markdown",
   "id": "9430e8fc",
   "metadata": {},
   "source": [
    "**Some Considerations**  \n",
    "Crawling Wikipedia categories to identify relevant page subsets can result in misleading and/or duplicate category labels. Naturally, the data crawl attempted to resolve these, but not all may have been caught. The below section talks about how the inconsistencies in the data have been handled.  \n",
    "\n",
    "The population_by_country_2022.csv contains some rows that provide cumulative regional population counts. These rows are distinguished by having ALL CAPS values in the 'geography' field (e.g. AFRICA, OCEANIA). These rows won't match the country values in politicians_by_country.SEPT.2022.csv, but we will want to retain some of them so that you can report coverage and quality by region as specified in the analysis section below."
   ]
  },
  {
   "cell_type": "markdown",
   "id": "0e556bb4",
   "metadata": {},
   "source": [
    "**Checking for duplicates in both the dataframes and removing those records.**"
   ]
  },
  {
   "cell_type": "code",
   "execution_count": 74,
   "id": "d0b5bc9c",
   "metadata": {},
   "outputs": [
    {
     "name": "stdout",
     "output_type": "stream",
     "text": [
      "Number of rows for politician dataframe =  7584\n",
      "Number of rows for population dataframe =  233\n"
     ]
    }
   ],
   "source": [
    "print(\"Number of rows for politician dataframe = \", len(df_pol))\n",
    "print(\"Number of rows for population dataframe = \", len(df_pop))"
   ]
  },
  {
   "cell_type": "code",
   "execution_count": 75,
   "id": "8fff0c95",
   "metadata": {},
   "outputs": [
    {
     "name": "stdout",
     "output_type": "stream",
     "text": [
      "Number of rows for politician dataframe ater removing the duplicates =  7582\n"
     ]
    }
   ],
   "source": [
    "df_pol = df_pol.drop_duplicates(subset=['name', 'country', 'url'], keep = 'last')\n",
    "df_pol = df_pol.reset_index()\n",
    "print(\"Number of rows for politician dataframe ater removing the duplicates = \", len(df_pol))"
   ]
  },
  {
   "cell_type": "code",
   "execution_count": 76,
   "id": "f4f054a5",
   "metadata": {},
   "outputs": [
    {
     "name": "stdout",
     "output_type": "stream",
     "text": [
      "Number of rows for population dataframe ater removing the duplicates =  233\n"
     ]
    }
   ],
   "source": [
    "df_pop = df_pop.drop_duplicates()\n",
    "print(\"Number of rows for population dataframe ater removing the duplicates = \", len(df_pop))"
   ]
  },
  {
   "cell_type": "markdown",
   "id": "1e8c38f0",
   "metadata": {},
   "source": [
    "*Two rows from the politician dataframe has been deleted and there were no duplicates in the population dataframe*"
   ]
  },
  {
   "cell_type": "markdown",
   "id": "64d668ce",
   "metadata": {},
   "source": [
    "- Checking for data inconsistencies like nulls/zero numeric values"
   ]
  },
  {
   "cell_type": "markdown",
   "id": "337cb9ad",
   "metadata": {},
   "source": [
    "**Checking for NULL values**"
   ]
  },
  {
   "cell_type": "code",
   "execution_count": 77,
   "id": "44d54580",
   "metadata": {},
   "outputs": [
    {
     "data": {
      "text/plain": [
       "Geography                0\n",
       "Population (millions)    0\n",
       "dtype: int64"
      ]
     },
     "execution_count": 77,
     "metadata": {},
     "output_type": "execute_result"
    }
   ],
   "source": [
    "df_pop.isnull().sum()"
   ]
  },
  {
   "cell_type": "code",
   "execution_count": 78,
   "id": "13261e7d",
   "metadata": {},
   "outputs": [
    {
     "data": {
      "text/plain": [
       "index      0\n",
       "name       0\n",
       "url        0\n",
       "country    0\n",
       "dtype: int64"
      ]
     },
     "execution_count": 78,
     "metadata": {},
     "output_type": "execute_result"
    }
   ],
   "source": [
    "df_pol.isnull().sum()"
   ]
  },
  {
   "cell_type": "markdown",
   "id": "f6145355",
   "metadata": {},
   "source": [
    "*There are no NULL values*"
   ]
  },
  {
   "cell_type": "markdown",
   "id": "145fe716",
   "metadata": {},
   "source": [
    "**Checking for ZERO values**"
   ]
  },
  {
   "cell_type": "markdown",
   "id": "118d3e92",
   "metadata": {},
   "source": [
    "Some population values are given as 0 Million, to avoid misinterpreting analysis we omit these rows from our data analysis."
   ]
  },
  {
   "cell_type": "code",
   "execution_count": 79,
   "id": "605c5cf5",
   "metadata": {},
   "outputs": [
    {
     "data": {
      "text/html": [
       "<div>\n",
       "<style scoped>\n",
       "    .dataframe tbody tr th:only-of-type {\n",
       "        vertical-align: middle;\n",
       "    }\n",
       "\n",
       "    .dataframe tbody tr th {\n",
       "        vertical-align: top;\n",
       "    }\n",
       "\n",
       "    .dataframe thead th {\n",
       "        text-align: right;\n",
       "    }\n",
       "</style>\n",
       "<table border=\"1\" class=\"dataframe\">\n",
       "  <thead>\n",
       "    <tr style=\"text-align: right;\">\n",
       "      <th></th>\n",
       "      <th>Geography</th>\n",
       "      <th>Population (millions)</th>\n",
       "    </tr>\n",
       "  </thead>\n",
       "  <tbody>\n",
       "    <tr>\n",
       "      <th>183</th>\n",
       "      <td>Liechtenstein</td>\n",
       "      <td>0.0</td>\n",
       "    </tr>\n",
       "    <tr>\n",
       "      <th>185</th>\n",
       "      <td>Monaco</td>\n",
       "      <td>0.0</td>\n",
       "    </tr>\n",
       "    <tr>\n",
       "      <th>211</th>\n",
       "      <td>San Marino</td>\n",
       "      <td>0.0</td>\n",
       "    </tr>\n",
       "    <tr>\n",
       "      <th>223</th>\n",
       "      <td>Nauru</td>\n",
       "      <td>0.0</td>\n",
       "    </tr>\n",
       "    <tr>\n",
       "      <th>226</th>\n",
       "      <td>Palau</td>\n",
       "      <td>0.0</td>\n",
       "    </tr>\n",
       "    <tr>\n",
       "      <th>231</th>\n",
       "      <td>Tuvalu</td>\n",
       "      <td>0.0</td>\n",
       "    </tr>\n",
       "  </tbody>\n",
       "</table>\n",
       "</div>"
      ],
      "text/plain": [
       "         Geography  Population (millions)\n",
       "183  Liechtenstein                    0.0\n",
       "185         Monaco                    0.0\n",
       "211     San Marino                    0.0\n",
       "223          Nauru                    0.0\n",
       "226          Palau                    0.0\n",
       "231         Tuvalu                    0.0"
      ]
     },
     "execution_count": 79,
     "metadata": {},
     "output_type": "execute_result"
    }
   ],
   "source": [
    "df_pop[df_pop['Population (millions)'] == 0]"
   ]
  },
  {
   "cell_type": "code",
   "execution_count": 80,
   "id": "a909b9ee",
   "metadata": {},
   "outputs": [],
   "source": [
    "# saving these records in a new dataframe to reuse it later for exclusion\n",
    "df_pop_zero = df_pop[df_pop['Population (millions)'] == 0]"
   ]
  },
  {
   "cell_type": "code",
   "execution_count": 81,
   "id": "165ad562",
   "metadata": {},
   "outputs": [
    {
     "data": {
      "text/html": [
       "<div>\n",
       "<style scoped>\n",
       "    .dataframe tbody tr th:only-of-type {\n",
       "        vertical-align: middle;\n",
       "    }\n",
       "\n",
       "    .dataframe tbody tr th {\n",
       "        vertical-align: top;\n",
       "    }\n",
       "\n",
       "    .dataframe thead th {\n",
       "        text-align: right;\n",
       "    }\n",
       "</style>\n",
       "<table border=\"1\" class=\"dataframe\">\n",
       "  <thead>\n",
       "    <tr style=\"text-align: right;\">\n",
       "      <th></th>\n",
       "      <th>Geography</th>\n",
       "      <th>Population (millions)</th>\n",
       "    </tr>\n",
       "  </thead>\n",
       "  <tbody>\n",
       "    <tr>\n",
       "      <th>0</th>\n",
       "      <td>WORLD</td>\n",
       "      <td>7963.0</td>\n",
       "    </tr>\n",
       "    <tr>\n",
       "      <th>1</th>\n",
       "      <td>AFRICA</td>\n",
       "      <td>1419.0</td>\n",
       "    </tr>\n",
       "    <tr>\n",
       "      <th>2</th>\n",
       "      <td>NORTHERN AFRICA</td>\n",
       "      <td>251.0</td>\n",
       "    </tr>\n",
       "    <tr>\n",
       "      <th>3</th>\n",
       "      <td>Algeria</td>\n",
       "      <td>44.9</td>\n",
       "    </tr>\n",
       "    <tr>\n",
       "      <th>4</th>\n",
       "      <td>Egypt</td>\n",
       "      <td>103.5</td>\n",
       "    </tr>\n",
       "  </tbody>\n",
       "</table>\n",
       "</div>"
      ],
      "text/plain": [
       "         Geography  Population (millions)\n",
       "0            WORLD                 7963.0\n",
       "1           AFRICA                 1419.0\n",
       "2  NORTHERN AFRICA                  251.0\n",
       "3          Algeria                   44.9\n",
       "4            Egypt                  103.5"
      ]
     },
     "execution_count": 81,
     "metadata": {},
     "output_type": "execute_result"
    }
   ],
   "source": [
    "df_pop.head()"
   ]
  },
  {
   "cell_type": "code",
   "execution_count": 82,
   "id": "f991f074",
   "metadata": {},
   "outputs": [
    {
     "data": {
      "text/html": [
       "<div>\n",
       "<style scoped>\n",
       "    .dataframe tbody tr th:only-of-type {\n",
       "        vertical-align: middle;\n",
       "    }\n",
       "\n",
       "    .dataframe tbody tr th {\n",
       "        vertical-align: top;\n",
       "    }\n",
       "\n",
       "    .dataframe thead th {\n",
       "        text-align: right;\n",
       "    }\n",
       "</style>\n",
       "<table border=\"1\" class=\"dataframe\">\n",
       "  <thead>\n",
       "    <tr style=\"text-align: right;\">\n",
       "      <th></th>\n",
       "      <th>Geography</th>\n",
       "      <th>Population (millions)</th>\n",
       "    </tr>\n",
       "  </thead>\n",
       "  <tbody>\n",
       "    <tr>\n",
       "      <th>0</th>\n",
       "      <td>WORLD</td>\n",
       "      <td>7963.0</td>\n",
       "    </tr>\n",
       "    <tr>\n",
       "      <th>1</th>\n",
       "      <td>AFRICA</td>\n",
       "      <td>1419.0</td>\n",
       "    </tr>\n",
       "    <tr>\n",
       "      <th>2</th>\n",
       "      <td>NORTHERN AFRICA</td>\n",
       "      <td>251.0</td>\n",
       "    </tr>\n",
       "    <tr>\n",
       "      <th>10</th>\n",
       "      <td>WESTERN AFRICA</td>\n",
       "      <td>430.0</td>\n",
       "    </tr>\n",
       "    <tr>\n",
       "      <th>27</th>\n",
       "      <td>EASTERN AFRICA</td>\n",
       "      <td>473.0</td>\n",
       "    </tr>\n",
       "  </tbody>\n",
       "</table>\n",
       "</div>"
      ],
      "text/plain": [
       "          Geography  Population (millions)\n",
       "0             WORLD                 7963.0\n",
       "1            AFRICA                 1419.0\n",
       "2   NORTHERN AFRICA                  251.0\n",
       "10   WESTERN AFRICA                  430.0\n",
       "27   EASTERN AFRICA                  473.0"
      ]
     },
     "execution_count": 82,
     "metadata": {},
     "output_type": "execute_result"
    }
   ],
   "source": [
    "# creating a dataframe with all the regions\n",
    "df_region = df_pop[df_pop['Geography'].str.isupper()==True]\n",
    "df_region.head()"
   ]
  },
  {
   "cell_type": "markdown",
   "id": "9a23552a",
   "metadata": {},
   "source": [
    "**Cumulation regional population counts**"
   ]
  },
  {
   "cell_type": "markdown",
   "id": "3301fef2",
   "metadata": {},
   "source": [
    "- We first search for the rows which has full capitalised letters and then make a new column with region and populate the respective region for each of the country."
   ]
  },
  {
   "cell_type": "code",
   "execution_count": 83,
   "id": "d215407b",
   "metadata": {},
   "outputs": [
    {
     "data": {
      "text/html": [
       "<div>\n",
       "<style scoped>\n",
       "    .dataframe tbody tr th:only-of-type {\n",
       "        vertical-align: middle;\n",
       "    }\n",
       "\n",
       "    .dataframe tbody tr th {\n",
       "        vertical-align: top;\n",
       "    }\n",
       "\n",
       "    .dataframe thead th {\n",
       "        text-align: right;\n",
       "    }\n",
       "</style>\n",
       "<table border=\"1\" class=\"dataframe\">\n",
       "  <thead>\n",
       "    <tr style=\"text-align: right;\">\n",
       "      <th></th>\n",
       "      <th>Geography</th>\n",
       "      <th>Population (millions)</th>\n",
       "      <th>Region</th>\n",
       "    </tr>\n",
       "  </thead>\n",
       "  <tbody>\n",
       "    <tr>\n",
       "      <th>0</th>\n",
       "      <td>WORLD</td>\n",
       "      <td>7963.0</td>\n",
       "      <td>WORLD</td>\n",
       "    </tr>\n",
       "    <tr>\n",
       "      <th>1</th>\n",
       "      <td>AFRICA</td>\n",
       "      <td>1419.0</td>\n",
       "      <td>AFRICA</td>\n",
       "    </tr>\n",
       "    <tr>\n",
       "      <th>2</th>\n",
       "      <td>NORTHERN AFRICA</td>\n",
       "      <td>251.0</td>\n",
       "      <td>NORTHERN AFRICA</td>\n",
       "    </tr>\n",
       "    <tr>\n",
       "      <th>3</th>\n",
       "      <td>Algeria</td>\n",
       "      <td>44.9</td>\n",
       "      <td>NaN</td>\n",
       "    </tr>\n",
       "    <tr>\n",
       "      <th>4</th>\n",
       "      <td>Egypt</td>\n",
       "      <td>103.5</td>\n",
       "      <td>NaN</td>\n",
       "    </tr>\n",
       "  </tbody>\n",
       "</table>\n",
       "</div>"
      ],
      "text/plain": [
       "         Geography  Population (millions)           Region\n",
       "0            WORLD                 7963.0            WORLD\n",
       "1           AFRICA                 1419.0           AFRICA\n",
       "2  NORTHERN AFRICA                  251.0  NORTHERN AFRICA\n",
       "3          Algeria                   44.9              NaN\n",
       "4            Egypt                  103.5              NaN"
      ]
     },
     "execution_count": 83,
     "metadata": {},
     "output_type": "execute_result"
    }
   ],
   "source": [
    "# creating a dataframe with all the regions\n",
    "df_region = df_pop[df_pop['Geography'].str.isupper()==True]\n",
    "\n",
    "#joining the df_region table with df_pop\n",
    "df_pop = pd.concat([df_pop, df_region], axis=1)\n",
    "df_pop.columns = (['Geography_x', 'Population (millions)_x', 'Geography_y', 'Population (millions)_y'])\n",
    "df_pop = df_pop.drop(columns=['Population (millions)_y'])\n",
    "\n",
    "df_pop = df_pop.rename(columns={'Geography_x': 'Geography', 'Geography_y': 'Region',\n",
    "                               'Population (millions)_x': 'Population (millions)'})\n",
    "df_pop.head()"
   ]
  },
  {
   "cell_type": "code",
   "execution_count": 15,
   "id": "4eca63c3",
   "metadata": {},
   "outputs": [
    {
     "data": {
      "text/html": [
       "<div>\n",
       "<style scoped>\n",
       "    .dataframe tbody tr th:only-of-type {\n",
       "        vertical-align: middle;\n",
       "    }\n",
       "\n",
       "    .dataframe tbody tr th {\n",
       "        vertical-align: top;\n",
       "    }\n",
       "\n",
       "    .dataframe thead th {\n",
       "        text-align: right;\n",
       "    }\n",
       "</style>\n",
       "<table border=\"1\" class=\"dataframe\">\n",
       "  <thead>\n",
       "    <tr style=\"text-align: right;\">\n",
       "      <th></th>\n",
       "      <th>Geography</th>\n",
       "      <th>Population (millions)</th>\n",
       "      <th>Region</th>\n",
       "    </tr>\n",
       "  </thead>\n",
       "  <tbody>\n",
       "    <tr>\n",
       "      <th>0</th>\n",
       "      <td>Algeria</td>\n",
       "      <td>44.9</td>\n",
       "      <td>NORTHERN AFRICA</td>\n",
       "    </tr>\n",
       "    <tr>\n",
       "      <th>1</th>\n",
       "      <td>Egypt</td>\n",
       "      <td>103.5</td>\n",
       "      <td>NORTHERN AFRICA</td>\n",
       "    </tr>\n",
       "    <tr>\n",
       "      <th>2</th>\n",
       "      <td>Libya</td>\n",
       "      <td>6.8</td>\n",
       "      <td>NORTHERN AFRICA</td>\n",
       "    </tr>\n",
       "    <tr>\n",
       "      <th>3</th>\n",
       "      <td>Morocco</td>\n",
       "      <td>36.7</td>\n",
       "      <td>NORTHERN AFRICA</td>\n",
       "    </tr>\n",
       "    <tr>\n",
       "      <th>4</th>\n",
       "      <td>Sudan</td>\n",
       "      <td>46.9</td>\n",
       "      <td>NORTHERN AFRICA</td>\n",
       "    </tr>\n",
       "  </tbody>\n",
       "</table>\n",
       "</div>"
      ],
      "text/plain": [
       "  Geography  Population (millions)           Region\n",
       "0   Algeria                   44.9  NORTHERN AFRICA\n",
       "1     Egypt                  103.5  NORTHERN AFRICA\n",
       "2     Libya                    6.8  NORTHERN AFRICA\n",
       "3   Morocco                   36.7  NORTHERN AFRICA\n",
       "4     Sudan                   46.9  NORTHERN AFRICA"
      ]
     },
     "execution_count": 15,
     "metadata": {},
     "output_type": "execute_result"
    }
   ],
   "source": [
    "# using the ffill() function to fill in the NaN values and deleting the rows where Geography = Region\n",
    "df_pop = df_pop.ffill(axis=0)\n",
    "df_pop = df_pop.drop(df_pop[(df_pop.Geography) == (df_pop.Region)].index)\n",
    "df_pop = df_pop.reset_index(drop=True)\n",
    "df_pop.head()"
   ]
  },
  {
   "cell_type": "markdown",
   "id": "559c4a4a",
   "metadata": {},
   "source": [
    "# Step 2: Getting Article Quality Predictions\n",
    "Now we need to get the predicted quality scores for each article in the Wikipedia dataset. We're using a machine learning system called [ORES](https://www.mediawiki.org/wiki/ORES). This was originally an acronym for \"Objective Revision Evaluation Service\" but was simply renamed “ORES”. ORES is a machine learning tool that can provide estimates of Wikipedia article quality. The article quality estimates are, from best to worst:  \n",
    "FA - Featured article  \n",
    "GA - Good article  \n",
    "B - B-class article  \n",
    "C - C-class article  \n",
    "Start - Start-class article  \n",
    "Stub - Stub-class article    \n",
    "\n",
    "To get a Wikipedia page quality prediction from ORES for each politician’s article page we will need to:   \n",
    "a) read each line of politicians_by_country.SEPT.2022.csv  \n",
    "b) make a page info request to get the current page revision  \n",
    "c) make an ORES request using the page title and current revision id. \n"
   ]
  },
  {
   "cell_type": "markdown",
   "id": "eec0952f",
   "metadata": {},
   "source": [
    "### 2a) Configuring the API parameters\n",
    "\n",
    "The below code illustrates how to access page info data using the [MediaWiki REST API for the EN Wikipedia](https://www.mediawiki.org/wiki/API:Main_page). This shows how to request summary 'page info' for a single article page. The API documentation, [API:Info](https://www.mediawiki.org/wiki/API:Info), covers additional details that may be helpful when trying to use or understand this example.\n",
    "\n",
    "#### License\n",
    "This code example was developed by Dr. David W. McDonald for use in DATA 512, a course in the UW MS Data Science degree program. This code is provided under the [Creative Commons](https://creativecommons.org) [CC-BY license](https://creativecommons.org/licenses/by/4.0/). Revision 1.0 - May 13, 2022"
   ]
  },
  {
   "cell_type": "code",
   "execution_count": 16,
   "id": "f07f1d00",
   "metadata": {},
   "outputs": [],
   "source": [
    "# The basic English Wikipedia API endpoint\n",
    "API_ENWIKIPEDIA_ENDPOINT = \"https://en.wikipedia.org/w/api.php\"\n",
    "\n",
    "# We'll assume that there needs to be some throttling for these requests - we should always be nice to a free data resource\n",
    "API_LATENCY_ASSUMED = 0.002       # Assuming roughly 2ms latency on the API and network\n",
    "API_THROTTLE_WAIT = (1.0/100.0) - API_LATENCY_ASSUMED\n",
    "\n",
    "# When making automated requests we should include something that is unique to the person making the request\n",
    "# This should include an email - your UW email would be good to put in there\n",
    "REQUEST_HEADERS = {\n",
    "    'User-Agent': '<nmohan@uw.edu>, University of Washington, MSDS DATA 512 - AUTUMN 2022',\n",
    "}\n",
    "\n",
    "# This is a list of politicians from Wikipedia article titles \n",
    "ARTICLE_TITLES = df_pol['name']\n",
    "\n",
    "# This is a string of additional page properties that can be returned see the Info documentation for\n",
    "# what can be included. If you don't want any this can simply be the empty string\n",
    "PAGEINFO_EXTENDED_PROPERTIES = \"talkid|url|watched|watchers\"\n",
    "#PAGEINFO_EXTENDED_PROPERTIES = \"\"\n",
    "\n",
    "# This template lists the basic parameters for making this\n",
    "PAGEINFO_PARAMS_TEMPLATE = {\n",
    "    \"action\": \"query\",\n",
    "    \"format\": \"json\",\n",
    "    \"titles\": \"\",           # to simplify this should be a single page title at a time\n",
    "    \"prop\": \"info\",\n",
    "    \"inprop\": PAGEINFO_EXTENDED_PROPERTIES\n",
    "}"
   ]
  },
  {
   "cell_type": "markdown",
   "id": "0750533d",
   "metadata": {},
   "source": [
    "### 2b) API request function\n",
    "The API request will be made using one procedure. The idea is to make this reusable. The procedure is parameterized, but relies on the constants above for the important parameters. The underlying assumption is that this will be used to request data for a set of article pages. Therefore the parameter most likely to change is the article_title.\n"
   ]
  },
  {
   "cell_type": "code",
   "execution_count": 17,
   "id": "e7d677c4",
   "metadata": {},
   "outputs": [],
   "source": [
    "def request_pageinfo_per_article(article_title = None, \n",
    "                                 endpoint_url = API_ENWIKIPEDIA_ENDPOINT, \n",
    "                                 request_template = PAGEINFO_PARAMS_TEMPLATE,\n",
    "                                 headers = REQUEST_HEADERS):\n",
    "    # Make sure we have an article title\n",
    "    if not article_title: return None\n",
    "    \n",
    "    request_template['titles'] = article_title\n",
    "        \n",
    "    # make the request\n",
    "    try:\n",
    "        # we'll wait first, to make sure we don't exceed the limit in the situation where an exception\n",
    "        # occurs during the request processing - throttling is always a good practice with a free\n",
    "        # data source like Wikipedia - or any other community sources\n",
    "        if API_THROTTLE_WAIT > 0.0:\n",
    "            time.sleep(API_THROTTLE_WAIT)\n",
    "        response = requests.get(endpoint_url, headers=headers, params=request_template)\n",
    "        json_response = response.json()\n",
    "    except Exception as e:\n",
    "        print(e)\n",
    "        json_response = None\n",
    "    return json_response"
   ]
  },
  {
   "cell_type": "markdown",
   "id": "d00be97a",
   "metadata": {},
   "source": [
    "- Iterating through the ARTICLE_TITLES to call the above defined function such that we can get the JSON response from the endpoint.\n",
    "- capturing only the article title and the lastrevid for the above API call into a dataframe called *df_articles_lastrevid*\n",
    "\n",
    "**Since the number of article pages not found is more than a few, they have been captured in an error log file saved as \"error_log.txt\"**"
   ]
  },
  {
   "cell_type": "code",
   "execution_count": 18,
   "id": "2c5d7c86",
   "metadata": {},
   "outputs": [
    {
     "data": {
      "text/html": [
       "<div>\n",
       "<style scoped>\n",
       "    .dataframe tbody tr th:only-of-type {\n",
       "        vertical-align: middle;\n",
       "    }\n",
       "\n",
       "    .dataframe tbody tr th {\n",
       "        vertical-align: top;\n",
       "    }\n",
       "\n",
       "    .dataframe thead th {\n",
       "        text-align: right;\n",
       "    }\n",
       "</style>\n",
       "<table border=\"1\" class=\"dataframe\">\n",
       "  <thead>\n",
       "    <tr style=\"text-align: right;\">\n",
       "      <th></th>\n",
       "      <th>title</th>\n",
       "      <th>lastrevid</th>\n",
       "    </tr>\n",
       "  </thead>\n",
       "  <tbody>\n",
       "    <tr>\n",
       "      <th>0</th>\n",
       "      <td>Shahjahan Noori</td>\n",
       "      <td>1.099689e+09</td>\n",
       "    </tr>\n",
       "    <tr>\n",
       "      <th>1</th>\n",
       "      <td>Abdul Ghafar Lakanwal</td>\n",
       "      <td>9.435623e+08</td>\n",
       "    </tr>\n",
       "    <tr>\n",
       "      <th>2</th>\n",
       "      <td>Majah Ha Adrif</td>\n",
       "      <td>8.524041e+08</td>\n",
       "    </tr>\n",
       "    <tr>\n",
       "      <th>3</th>\n",
       "      <td>Haroon al-Afghani</td>\n",
       "      <td>1.095102e+09</td>\n",
       "    </tr>\n",
       "    <tr>\n",
       "      <th>4</th>\n",
       "      <td>Tayyab Agha</td>\n",
       "      <td>1.104998e+09</td>\n",
       "    </tr>\n",
       "  </tbody>\n",
       "</table>\n",
       "</div>"
      ],
      "text/plain": [
       "                   title     lastrevid\n",
       "0        Shahjahan Noori  1.099689e+09\n",
       "1  Abdul Ghafar Lakanwal  9.435623e+08\n",
       "2         Majah Ha Adrif  8.524041e+08\n",
       "3      Haroon al-Afghani  1.095102e+09\n",
       "4            Tayyab Agha  1.104998e+09"
      ]
     },
     "execution_count": 18,
     "metadata": {},
     "output_type": "execute_result"
    }
   ],
   "source": [
    "pageinfo_list = {}\n",
    "with open('error_log.txt', 'w') as f:\n",
    "\n",
    "for i in range(0, len(ARTICLE_TITLES)):\n",
    "    try: \n",
    "        request_op = request_pageinfo_per_article(article_title = ARTICLE_TITLES[i],\n",
    "                                                  request_template = PAGEINFO_PARAMS_TEMPLATE)['query']['pages']\n",
    "        pageinfo_list.update(request_op)\n",
    "    except:\n",
    "        txt = (\"Couldn't get the page info for: \" i)\n",
    "        f.write(txt)\n",
    "        f.write('\\n')\n",
    "    \n",
    "df_articles_lastrevid = pd.DataFrame.from_dict(pageinfo_list, orient='index', columns=['title', 'lastrevid'])\n",
    "df_articles_lastrevid.reset_index(inplace = True, drop = True)\n",
    "df_articles_lastrevid.head()"
   ]
  },
  {
   "cell_type": "code",
   "execution_count": 19,
   "id": "ce0173d8",
   "metadata": {},
   "outputs": [],
   "source": [
    "# Saving the API call response into a csv file to avoid reloading it multiple times\n",
    "# Last updated: 13 Oct 2022 (11:15 hrs)\n",
    "df_articles_lastrevid.to_csv('request_pageinfo_per_article_output.csv')"
   ]
  },
  {
   "cell_type": "markdown",
   "id": "217a8ebb",
   "metadata": {},
   "source": [
    "### 2c) Page information from endpoint\n",
    "This example illustrates how to generate quality scores for article revisions using [ORES](https://www.mediawiki.org/wiki/ORES). This example shows how to request a score of a specific revision, where the score provides probabilities for all of the possible article quality levels. The API documentation can be access from the main [ORES](https://ores.wikimedia.org) page. However, this documentation is a little skimpy and if you want more information you may have to dig around.\n",
    "\n",
    "#### License\n",
    "This code example was developed by Dr. David W. McDonald for use in DATA 512, a course in the UW MS Data Science degree program. This code is provided under the [Creative Commons](https://creativecommons.org) [CC-BY license](https://creativecommons.org/licenses/by/4.0/). Revision 1.0 - May 13, 2022"
   ]
  },
  {
   "cell_type": "code",
   "execution_count": 21,
   "id": "7935ee1b",
   "metadata": {},
   "outputs": [],
   "source": [
    "# The current ORES API endpoint\n",
    "API_ORES_SCORE_ENDPOINT = \"https://ores.wikimedia.org/v3\"\n",
    "# A template for mapping to the URL\n",
    "\n",
    "API_ORES_SCORE_PARAMS = \"/scores/{context}/?models={model}&revids={revids}\"\n",
    "\n",
    "# Use some delays so that we do not hammer the API with our requests\n",
    "API_LATENCY_ASSUMED = 0.002       # Assuming roughly 2ms latency on the API and network\n",
    "API_THROTTLE_WAIT = (1.0/100.0)-API_LATENCY_ASSUMED\n",
    "\n",
    "# When making automated requests we should include something that is unique to the person making the request\n",
    "# This should include an email - your UW email would be good to put in there\n",
    "REQUEST_HEADERS = {\n",
    "    'User-Agent': '<nmohan@uw.edu>, University of Washington, MSDS DATA 512 - AUTUMN 2022'\n",
    "}\n",
    "\n",
    "# This template lists the basic parameters for making an ORES request\n",
    "ORES_PARAMS_TEMPLATE = {\n",
    "    \"context\": \"enwiki\",        # which WMF project for the specified revid\n",
    "    \"revid\" : \"\",               # the revision to be scored - this will probably change each call\n",
    "    \"model\": \"articlequality\"   # the AI/ML scoring model to apply to the reviewion\n",
    "}"
   ]
  },
  {
   "cell_type": "code",
   "execution_count": 22,
   "id": "a4f647ec",
   "metadata": {},
   "outputs": [],
   "source": [
    "def request_ores_score_per_article(article_revid = None, \n",
    "                                   endpoint_url = API_ORES_SCORE_ENDPOINT, \n",
    "                                   endpoint_params = API_ORES_SCORE_PARAMS, \n",
    "                                   request_template = ORES_PARAMS_TEMPLATE,\n",
    "                                   headers = REQUEST_HEADERS,\n",
    "                                   features=False):\n",
    "    # Make sure we have an article revision id\n",
    "    if not article_revid: return None\n",
    "    \n",
    "    # set the revision id into the template\n",
    "    request_template['revids'] = article_revid\n",
    "    \n",
    "    # now, create a request URL by combining the endpoint_url with the parameters for the request\n",
    "    request_url = endpoint_url+endpoint_params.format(**request_template)\n",
    "    \n",
    "    # the features used by the ML model can sometimes be returned as well as scores\n",
    "    if features:\n",
    "        request_url = request_url+\"?features=true\"\n",
    "    \n",
    "    # make the request\n",
    "    try:\n",
    "        # we'll wait first, to make sure we don't exceed the limit in the situation where an exception\n",
    "        # occurs during the request processing - throttling is always a good practice with a free\n",
    "        # data source like ORES - or other community sources\n",
    "        if API_THROTTLE_WAIT > 0.0:\n",
    "            time.sleep(API_THROTTLE_WAIT)\n",
    "        response = requests.get(request_url, headers=headers)\n",
    "        json_response = response.json()\n",
    "    except Exception as e:\n",
    "        print(e)\n",
    "        json_response = None\n",
    "    return json_response"
   ]
  },
  {
   "cell_type": "markdown",
   "id": "ba59b8c7",
   "metadata": {},
   "source": [
    "- Extracting the ORES score by running a for loop\n",
    "- **The ones for which the ORES score wasn't captured is printed below**"
   ]
  },
  {
   "cell_type": "code",
   "execution_count": 24,
   "id": "ccac1a0a",
   "metadata": {},
   "outputs": [
    {
     "name": "stdout",
     "output_type": "stream",
     "text": [
      "Couldn't get the ORES info for:  2439\n"
     ]
    }
   ],
   "source": [
    "ores_score = {}\n",
    "for i in range(0, len(df_articles_lastrevid.lastrevid)):\n",
    "    try:\n",
    "        revids = str(int(df_articles_lastrevid['lastrevid'][i]))\n",
    "        req_op = request_ores_score_per_article(revids)['enwiki']['scores']\n",
    "        ores_score[revids] = req_op[revids]['articlequality']['score']['prediction']\n",
    "    except:\n",
    "        print(\"Couldn't get the ORES info for: \", i)"
   ]
  },
  {
   "cell_type": "markdown",
   "id": "2c5b2eb9",
   "metadata": {},
   "source": [
    "- Creating a dataframe of the API output and renaming the columns for easier tracking and combining later."
   ]
  },
  {
   "cell_type": "code",
   "execution_count": 25,
   "id": "a0d49f4e",
   "metadata": {},
   "outputs": [
    {
     "data": {
      "text/html": [
       "<div>\n",
       "<style scoped>\n",
       "    .dataframe tbody tr th:only-of-type {\n",
       "        vertical-align: middle;\n",
       "    }\n",
       "\n",
       "    .dataframe tbody tr th {\n",
       "        vertical-align: top;\n",
       "    }\n",
       "\n",
       "    .dataframe thead th {\n",
       "        text-align: right;\n",
       "    }\n",
       "</style>\n",
       "<table border=\"1\" class=\"dataframe\">\n",
       "  <thead>\n",
       "    <tr style=\"text-align: right;\">\n",
       "      <th></th>\n",
       "      <th>lastrevid</th>\n",
       "      <th>prediction</th>\n",
       "    </tr>\n",
       "  </thead>\n",
       "  <tbody>\n",
       "    <tr>\n",
       "      <th>0</th>\n",
       "      <td>1099689043</td>\n",
       "      <td>GA</td>\n",
       "    </tr>\n",
       "    <tr>\n",
       "      <th>1</th>\n",
       "      <td>943562276</td>\n",
       "      <td>Start</td>\n",
       "    </tr>\n",
       "    <tr>\n",
       "      <th>2</th>\n",
       "      <td>852404094</td>\n",
       "      <td>Start</td>\n",
       "    </tr>\n",
       "    <tr>\n",
       "      <th>3</th>\n",
       "      <td>1095102390</td>\n",
       "      <td>B</td>\n",
       "    </tr>\n",
       "    <tr>\n",
       "      <th>4</th>\n",
       "      <td>1104998382</td>\n",
       "      <td>Start</td>\n",
       "    </tr>\n",
       "    <tr>\n",
       "      <th>...</th>\n",
       "      <td>...</td>\n",
       "      <td>...</td>\n",
       "    </tr>\n",
       "    <tr>\n",
       "      <th>7522</th>\n",
       "      <td>1073818982</td>\n",
       "      <td>Stub</td>\n",
       "    </tr>\n",
       "    <tr>\n",
       "      <th>7523</th>\n",
       "      <td>1106932400</td>\n",
       "      <td>C</td>\n",
       "    </tr>\n",
       "    <tr>\n",
       "      <th>7524</th>\n",
       "      <td>904246837</td>\n",
       "      <td>Stub</td>\n",
       "    </tr>\n",
       "    <tr>\n",
       "      <th>7525</th>\n",
       "      <td>959111842</td>\n",
       "      <td>Stub</td>\n",
       "    </tr>\n",
       "    <tr>\n",
       "      <th>7526</th>\n",
       "      <td>1111257734</td>\n",
       "      <td>C</td>\n",
       "    </tr>\n",
       "  </tbody>\n",
       "</table>\n",
       "<p>7527 rows × 2 columns</p>\n",
       "</div>"
      ],
      "text/plain": [
       "       lastrevid prediction\n",
       "0     1099689043         GA\n",
       "1      943562276      Start\n",
       "2      852404094      Start\n",
       "3     1095102390          B\n",
       "4     1104998382      Start\n",
       "...          ...        ...\n",
       "7522  1073818982       Stub\n",
       "7523  1106932400          C\n",
       "7524   904246837       Stub\n",
       "7525   959111842       Stub\n",
       "7526  1111257734          C\n",
       "\n",
       "[7527 rows x 2 columns]"
      ]
     },
     "execution_count": 25,
     "metadata": {},
     "output_type": "execute_result"
    }
   ],
   "source": [
    "df_scores = pd.DataFrame.from_dict(ores_score, orient='index', columns=['prediction'])\n",
    "df_scores.reset_index(inplace = True)\n",
    "df_scores = df_scores.rename(columns = {'index': 'lastrevid'})\n",
    "df_scores['lastrevid'] = df_scores['lastrevid'].astype('int')\n",
    "df_scores"
   ]
  },
  {
   "cell_type": "markdown",
   "id": "33996593",
   "metadata": {},
   "source": [
    "- Storing the API output dataframe as a .csv file to avoid re-running the code again to retrieve the information"
   ]
  },
  {
   "cell_type": "code",
   "execution_count": 26,
   "id": "f8210fe8",
   "metadata": {},
   "outputs": [],
   "source": [
    "df_scores.to_csv('request_ores_score_per_article_output.csv')"
   ]
  },
  {
   "cell_type": "markdown",
   "id": "f9e06777",
   "metadata": {},
   "source": [
    "# Step 3: Combining the Datasets"
   ]
  },
  {
   "cell_type": "markdown",
   "id": "406f8059",
   "metadata": {},
   "source": [
    "Some processing of the data will be necessary! In particular, you'll need to - after retrieving and including the ORES data for each article - merge the wikipedia data and population data together. Both have fields containing country names for just that purpose. After merging the data, you'll invariably run into entries which cannot be merged. Either the population dataset does not have an entry for the equivalent Wikipedia country, or vice-versa.  \n",
    "\n",
    "Identify all countries for which there are no matches and output a list of those countries, with each country on a separate line called: **wp_countries-no_match.txt**  \n",
    "\n",
    "Consolidate the remaining data into a single CSV file called:\n",
    "**wp_politicians_by_country.csv**  \n",
    "\n",
    "The schema for that file should look something like this:  \n",
    "Column  \n",
    "country  \n",
    "region  \n",
    "population  \n",
    "article_title  \n",
    "revision_id  \n",
    "article_quality"
   ]
  },
  {
   "cell_type": "markdown",
   "id": "41d31956",
   "metadata": {},
   "source": [
    "## 3a) Combining Datasets \n",
    "\n",
    "- politicians data has (title, country)\n",
    "- page info has (title, lastrevid)\n",
    "- ores score has (lastrevid, prediction)\n",
    "- population data has (country, population, region)"
   ]
  },
  {
   "cell_type": "markdown",
   "id": "97d85306",
   "metadata": {},
   "source": [
    "Merging the article page info dataframe with the ORED score prediction"
   ]
  },
  {
   "cell_type": "code",
   "execution_count": 27,
   "id": "2be0457f",
   "metadata": {},
   "outputs": [
    {
     "name": "stdout",
     "output_type": "stream",
     "text": [
      "Number of records in Article page info =  7528\n",
      "Number of records in ORES score prediction =  7527\n",
      "Number of records in the joined datafarme with politicians and their ORES score prediction = 7582\n"
     ]
    },
    {
     "data": {
      "text/html": [
       "<div>\n",
       "<style scoped>\n",
       "    .dataframe tbody tr th:only-of-type {\n",
       "        vertical-align: middle;\n",
       "    }\n",
       "\n",
       "    .dataframe tbody tr th {\n",
       "        vertical-align: top;\n",
       "    }\n",
       "\n",
       "    .dataframe thead th {\n",
       "        text-align: right;\n",
       "    }\n",
       "</style>\n",
       "<table border=\"1\" class=\"dataframe\">\n",
       "  <thead>\n",
       "    <tr style=\"text-align: right;\">\n",
       "      <th></th>\n",
       "      <th>name</th>\n",
       "      <th>country</th>\n",
       "      <th>lastrevid</th>\n",
       "      <th>prediction</th>\n",
       "    </tr>\n",
       "  </thead>\n",
       "  <tbody>\n",
       "    <tr>\n",
       "      <th>0</th>\n",
       "      <td>Shahjahan Noori</td>\n",
       "      <td>Afghanistan</td>\n",
       "      <td>1.099689e+09</td>\n",
       "      <td>GA</td>\n",
       "    </tr>\n",
       "    <tr>\n",
       "      <th>1</th>\n",
       "      <td>Abdul Ghafar Lakanwal</td>\n",
       "      <td>Afghanistan</td>\n",
       "      <td>9.435623e+08</td>\n",
       "      <td>Start</td>\n",
       "    </tr>\n",
       "    <tr>\n",
       "      <th>2</th>\n",
       "      <td>Majah Ha Adrif</td>\n",
       "      <td>Afghanistan</td>\n",
       "      <td>8.524041e+08</td>\n",
       "      <td>Start</td>\n",
       "    </tr>\n",
       "    <tr>\n",
       "      <th>3</th>\n",
       "      <td>Haroon al-Afghani</td>\n",
       "      <td>Afghanistan</td>\n",
       "      <td>1.095102e+09</td>\n",
       "      <td>B</td>\n",
       "    </tr>\n",
       "    <tr>\n",
       "      <th>4</th>\n",
       "      <td>Tayyab Agha</td>\n",
       "      <td>Afghanistan</td>\n",
       "      <td>1.104998e+09</td>\n",
       "      <td>Start</td>\n",
       "    </tr>\n",
       "  </tbody>\n",
       "</table>\n",
       "</div>"
      ],
      "text/plain": [
       "                    name      country     lastrevid prediction\n",
       "0        Shahjahan Noori  Afghanistan  1.099689e+09         GA\n",
       "1  Abdul Ghafar Lakanwal  Afghanistan  9.435623e+08      Start\n",
       "2         Majah Ha Adrif  Afghanistan  8.524041e+08      Start\n",
       "3      Haroon al-Afghani  Afghanistan  1.095102e+09          B\n",
       "4            Tayyab Agha  Afghanistan  1.104998e+09      Start"
      ]
     },
     "execution_count": 27,
     "metadata": {},
     "output_type": "execute_result"
    }
   ],
   "source": [
    "print('Number of records in Article page info = ', len(df_articles_lastrevid))\n",
    "print('Number of records in ORES score prediction = ', len(df_scores))\n",
    "\n",
    "df_joined = df_articles_lastrevid.merge(df_scores, on = ['lastrevid'], how = 'left')\n",
    "\n",
    "# Adding country as well\n",
    "df_joined = df_pol.merge(df_joined, left_on = \"name\", right_on = \"title\", how = 'left')\n",
    "\n",
    "# Cleaning the dataframe by removing duplicate name column (i.e., title) and url\n",
    "df_pol_scores = df_joined.drop(['url', 'title', 'index'], axis = 1)\n",
    "print('Number of records in the joined datafarme with politicians and their ORES score prediction =',\n",
    "      len(df_pol_scores))\n",
    "\n",
    "# To view a snippet of the dataframe\n",
    "df_pol_scores.head()"
   ]
  },
  {
   "cell_type": "markdown",
   "id": "56d755ca",
   "metadata": {},
   "source": [
    "- Adding the population data to this dataframe as well."
   ]
  },
  {
   "cell_type": "code",
   "execution_count": 28,
   "id": "f96b29d0",
   "metadata": {},
   "outputs": [
    {
     "name": "stdout",
     "output_type": "stream",
     "text": [
      "Number of records in the joined datafarme = 7607\n"
     ]
    },
    {
     "data": {
      "text/html": [
       "<div>\n",
       "<style scoped>\n",
       "    .dataframe tbody tr th:only-of-type {\n",
       "        vertical-align: middle;\n",
       "    }\n",
       "\n",
       "    .dataframe tbody tr th {\n",
       "        vertical-align: top;\n",
       "    }\n",
       "\n",
       "    .dataframe thead th {\n",
       "        text-align: right;\n",
       "    }\n",
       "</style>\n",
       "<table border=\"1\" class=\"dataframe\">\n",
       "  <thead>\n",
       "    <tr style=\"text-align: right;\">\n",
       "      <th></th>\n",
       "      <th>name</th>\n",
       "      <th>country</th>\n",
       "      <th>lastrevid</th>\n",
       "      <th>prediction</th>\n",
       "      <th>Geography</th>\n",
       "      <th>Population (millions)</th>\n",
       "      <th>Region</th>\n",
       "    </tr>\n",
       "  </thead>\n",
       "  <tbody>\n",
       "    <tr>\n",
       "      <th>0</th>\n",
       "      <td>Shahjahan Noori</td>\n",
       "      <td>Afghanistan</td>\n",
       "      <td>1.099689e+09</td>\n",
       "      <td>GA</td>\n",
       "      <td>Afghanistan</td>\n",
       "      <td>41.1</td>\n",
       "      <td>SOUTH ASIA</td>\n",
       "    </tr>\n",
       "    <tr>\n",
       "      <th>1</th>\n",
       "      <td>Abdul Ghafar Lakanwal</td>\n",
       "      <td>Afghanistan</td>\n",
       "      <td>9.435623e+08</td>\n",
       "      <td>Start</td>\n",
       "      <td>Afghanistan</td>\n",
       "      <td>41.1</td>\n",
       "      <td>SOUTH ASIA</td>\n",
       "    </tr>\n",
       "    <tr>\n",
       "      <th>2</th>\n",
       "      <td>Majah Ha Adrif</td>\n",
       "      <td>Afghanistan</td>\n",
       "      <td>8.524041e+08</td>\n",
       "      <td>Start</td>\n",
       "      <td>Afghanistan</td>\n",
       "      <td>41.1</td>\n",
       "      <td>SOUTH ASIA</td>\n",
       "    </tr>\n",
       "    <tr>\n",
       "      <th>3</th>\n",
       "      <td>Haroon al-Afghani</td>\n",
       "      <td>Afghanistan</td>\n",
       "      <td>1.095102e+09</td>\n",
       "      <td>B</td>\n",
       "      <td>Afghanistan</td>\n",
       "      <td>41.1</td>\n",
       "      <td>SOUTH ASIA</td>\n",
       "    </tr>\n",
       "    <tr>\n",
       "      <th>4</th>\n",
       "      <td>Tayyab Agha</td>\n",
       "      <td>Afghanistan</td>\n",
       "      <td>1.104998e+09</td>\n",
       "      <td>Start</td>\n",
       "      <td>Afghanistan</td>\n",
       "      <td>41.1</td>\n",
       "      <td>SOUTH ASIA</td>\n",
       "    </tr>\n",
       "  </tbody>\n",
       "</table>\n",
       "</div>"
      ],
      "text/plain": [
       "                    name      country     lastrevid prediction    Geography  \\\n",
       "0        Shahjahan Noori  Afghanistan  1.099689e+09         GA  Afghanistan   \n",
       "1  Abdul Ghafar Lakanwal  Afghanistan  9.435623e+08      Start  Afghanistan   \n",
       "2         Majah Ha Adrif  Afghanistan  8.524041e+08      Start  Afghanistan   \n",
       "3      Haroon al-Afghani  Afghanistan  1.095102e+09          B  Afghanistan   \n",
       "4            Tayyab Agha  Afghanistan  1.104998e+09      Start  Afghanistan   \n",
       "\n",
       "   Population (millions)      Region  \n",
       "0                   41.1  SOUTH ASIA  \n",
       "1                   41.1  SOUTH ASIA  \n",
       "2                   41.1  SOUTH ASIA  \n",
       "3                   41.1  SOUTH ASIA  \n",
       "4                   41.1  SOUTH ASIA  "
      ]
     },
     "execution_count": 28,
     "metadata": {},
     "output_type": "execute_result"
    }
   ],
   "source": [
    "df_consolidated = df_pol_scores.merge(df_pop, left_on = 'country', right_on = 'Geography', how = 'outer')\n",
    "print('Number of records in the joined datafarme =', len(df_consolidated))\n",
    "df_consolidated.head()"
   ]
  },
  {
   "cell_type": "markdown",
   "id": "af6c5488",
   "metadata": {},
   "source": [
    "## 3b) Finding countries with no matches"
   ]
  },
  {
   "cell_type": "code",
   "execution_count": 29,
   "id": "c3bac538",
   "metadata": {},
   "outputs": [
    {
     "data": {
      "text/plain": [
       "['Australia',\n",
       " 'Brunei',\n",
       " 'Canada',\n",
       " 'China,  Hong Kong SAR',\n",
       " 'China,  Macao SAR',\n",
       " 'Curacao',\n",
       " 'French Guiana',\n",
       " 'French Polynesia',\n",
       " 'Guadeloupe',\n",
       " 'Guam',\n",
       " 'Ireland',\n",
       " 'Kiribati',\n",
       " 'Korean',\n",
       " 'Martinique',\n",
       " 'Mauritius',\n",
       " 'Mayotte',\n",
       " 'New Caledonia',\n",
       " 'New Zealand',\n",
       " 'Philippines',\n",
       " 'Puerto Rico',\n",
       " 'Reunion',\n",
       " 'Sao Tome and Principe',\n",
       " 'United Kingdom',\n",
       " 'United States',\n",
       " 'Western Sahara',\n",
       " 'eSwatini']"
      ]
     },
     "execution_count": 29,
     "metadata": {},
     "output_type": "execute_result"
    }
   ],
   "source": [
    "# s1 is a list for checking for countries with no wiki data\n",
    "# creating sets and taking a set difference for the no matches count\n",
    "\n",
    "s1 = df_consolidated[df_consolidated['country'].isnull()]['Geography'].unique()\n",
    "\n",
    "# s2 is a list for checking countries with no population data\n",
    "s2 = df_consolidated[df_consolidated['Geography'].isnull()]['country'].unique()\n",
    "\n",
    "no_match = list(set(np.append(s1, s2)))\n",
    "no_match.sort()\n",
    "no_match"
   ]
  },
  {
   "cell_type": "markdown",
   "id": "709dd576",
   "metadata": {},
   "source": [
    "#### Writing to an output text file no_match.txt"
   ]
  },
  {
   "cell_type": "code",
   "execution_count": 30,
   "id": "36d48d0d",
   "metadata": {},
   "outputs": [],
   "source": [
    "with open ('wp_countries-no_match.txt', 'w') as f:\n",
    "    for i in no_match:\n",
    "        f.write(i)\n",
    "        f.write('\\n')"
   ]
  },
  {
   "cell_type": "markdown",
   "id": "b7352b12",
   "metadata": {},
   "source": [
    "#### Consolidate the remaining data into a single CSV file"
   ]
  },
  {
   "cell_type": "markdown",
   "id": "0304502d",
   "metadata": {},
   "source": [
    "- To check for nulls in geography & country, if yes then drop those columns\n",
    "- renaming all the columns as per the standard given in the instruction file"
   ]
  },
  {
   "cell_type": "code",
   "execution_count": 31,
   "id": "f196abe6",
   "metadata": {},
   "outputs": [],
   "source": [
    "df_consolidated = df_consolidated[(~df_consolidated['country'].isnull()) & (~df_consolidated['Geography'].isnull())]\n",
    "df_consolidated = df_consolidated.drop('Geography', axis = 1)\n",
    "\n",
    "df_consolidated = df_consolidated.rename(columns = {\n",
    "    'Geography' : 'country',\n",
    "    'Population (millions)' : 'population',\n",
    "    'name' : 'article_title',\n",
    "    'latestrevid': 'revision_id',\n",
    "    'prediction': 'article_quality',\n",
    "    'Region' : 'region'\n",
    "})"
   ]
  },
  {
   "cell_type": "markdown",
   "id": "7d5ad808",
   "metadata": {},
   "source": [
    "- Saving df_consolidated into a csv file as required and displaying a snapshot of the same."
   ]
  },
  {
   "cell_type": "code",
   "execution_count": 32,
   "id": "6ca74664",
   "metadata": {},
   "outputs": [
    {
     "data": {
      "text/html": [
       "<div>\n",
       "<style scoped>\n",
       "    .dataframe tbody tr th:only-of-type {\n",
       "        vertical-align: middle;\n",
       "    }\n",
       "\n",
       "    .dataframe tbody tr th {\n",
       "        vertical-align: top;\n",
       "    }\n",
       "\n",
       "    .dataframe thead th {\n",
       "        text-align: right;\n",
       "    }\n",
       "</style>\n",
       "<table border=\"1\" class=\"dataframe\">\n",
       "  <thead>\n",
       "    <tr style=\"text-align: right;\">\n",
       "      <th></th>\n",
       "      <th>article_title</th>\n",
       "      <th>country</th>\n",
       "      <th>lastrevid</th>\n",
       "      <th>article_quality</th>\n",
       "      <th>population</th>\n",
       "      <th>region</th>\n",
       "    </tr>\n",
       "  </thead>\n",
       "  <tbody>\n",
       "    <tr>\n",
       "      <th>0</th>\n",
       "      <td>Shahjahan Noori</td>\n",
       "      <td>Afghanistan</td>\n",
       "      <td>1.099689e+09</td>\n",
       "      <td>GA</td>\n",
       "      <td>41.1</td>\n",
       "      <td>SOUTH ASIA</td>\n",
       "    </tr>\n",
       "    <tr>\n",
       "      <th>1</th>\n",
       "      <td>Abdul Ghafar Lakanwal</td>\n",
       "      <td>Afghanistan</td>\n",
       "      <td>9.435623e+08</td>\n",
       "      <td>Start</td>\n",
       "      <td>41.1</td>\n",
       "      <td>SOUTH ASIA</td>\n",
       "    </tr>\n",
       "    <tr>\n",
       "      <th>2</th>\n",
       "      <td>Majah Ha Adrif</td>\n",
       "      <td>Afghanistan</td>\n",
       "      <td>8.524041e+08</td>\n",
       "      <td>Start</td>\n",
       "      <td>41.1</td>\n",
       "      <td>SOUTH ASIA</td>\n",
       "    </tr>\n",
       "    <tr>\n",
       "      <th>3</th>\n",
       "      <td>Haroon al-Afghani</td>\n",
       "      <td>Afghanistan</td>\n",
       "      <td>1.095102e+09</td>\n",
       "      <td>B</td>\n",
       "      <td>41.1</td>\n",
       "      <td>SOUTH ASIA</td>\n",
       "    </tr>\n",
       "    <tr>\n",
       "      <th>4</th>\n",
       "      <td>Tayyab Agha</td>\n",
       "      <td>Afghanistan</td>\n",
       "      <td>1.104998e+09</td>\n",
       "      <td>Start</td>\n",
       "      <td>41.1</td>\n",
       "      <td>SOUTH ASIA</td>\n",
       "    </tr>\n",
       "  </tbody>\n",
       "</table>\n",
       "</div>"
      ],
      "text/plain": [
       "           article_title      country     lastrevid article_quality  \\\n",
       "0        Shahjahan Noori  Afghanistan  1.099689e+09              GA   \n",
       "1  Abdul Ghafar Lakanwal  Afghanistan  9.435623e+08           Start   \n",
       "2         Majah Ha Adrif  Afghanistan  8.524041e+08           Start   \n",
       "3      Haroon al-Afghani  Afghanistan  1.095102e+09               B   \n",
       "4            Tayyab Agha  Afghanistan  1.104998e+09           Start   \n",
       "\n",
       "   population      region  \n",
       "0        41.1  SOUTH ASIA  \n",
       "1        41.1  SOUTH ASIA  \n",
       "2        41.1  SOUTH ASIA  \n",
       "3        41.1  SOUTH ASIA  \n",
       "4        41.1  SOUTH ASIA  "
      ]
     },
     "execution_count": 32,
     "metadata": {},
     "output_type": "execute_result"
    }
   ],
   "source": [
    "df_consolidated.to_csv('wp_politicians_by_country.csv', index=False)\n",
    "df_consolidated.head()"
   ]
  },
  {
   "cell_type": "markdown",
   "id": "e7a12458",
   "metadata": {},
   "source": [
    "# Step 4: Analysis\n",
    "The analysis consists of calculating total-articles-per-population (a ratio representing the number of articles per person)  and high-quality-articles-per-population (a ratio representing the number of high quality articles per person) on a country-by-country and regional basis. All of these values are to be “per capita”.  \n",
    "\n",
    "In this analysis a country can only exist in one region. The **population_by_country_2022.csv** actually represents regions in a hierarchical order. For the analysis the country in the closest (lowest in the hierarchy) region.  \n",
    "\n",
    "For this analysis you should consider \"high quality\" articles to be articles that ORES predicted would be in either the \"FA\" (featured article) or \"GA\" (good article) classes.  \n",
    "\n",
    "Also, keep in mind that the population_by_country_2022.csv file provides population in millions. The calculated proportions in this step are likely to be very small numbers."
   ]
  },
  {
   "cell_type": "markdown",
   "id": "1bc50975",
   "metadata": {},
   "source": [
    "## 4a) Total Articles per Population (articles per capita)"
   ]
  },
  {
   "cell_type": "markdown",
   "id": "4b2ad8b0",
   "metadata": {},
   "source": [
    "### By Country"
   ]
  },
  {
   "cell_type": "code",
   "execution_count": 85,
   "id": "b2807feb",
   "metadata": {},
   "outputs": [
    {
     "name": "stdout",
     "output_type": "stream",
     "text": [
      "On a country level, the dataframe returns the below number of rows\n",
      "178\n"
     ]
    },
    {
     "data": {
      "text/html": [
       "<div>\n",
       "<style scoped>\n",
       "    .dataframe tbody tr th:only-of-type {\n",
       "        vertical-align: middle;\n",
       "    }\n",
       "\n",
       "    .dataframe tbody tr th {\n",
       "        vertical-align: top;\n",
       "    }\n",
       "\n",
       "    .dataframe thead th {\n",
       "        text-align: right;\n",
       "    }\n",
       "</style>\n",
       "<table border=\"1\" class=\"dataframe\">\n",
       "  <thead>\n",
       "    <tr style=\"text-align: right;\">\n",
       "      <th></th>\n",
       "      <th>country</th>\n",
       "      <th>population</th>\n",
       "      <th>article_count</th>\n",
       "      <th>articles_per_capita</th>\n",
       "    </tr>\n",
       "  </thead>\n",
       "  <tbody>\n",
       "    <tr>\n",
       "      <th>0</th>\n",
       "      <td>Afghanistan</td>\n",
       "      <td>41.1</td>\n",
       "      <td>118</td>\n",
       "      <td>2.871046e-06</td>\n",
       "    </tr>\n",
       "    <tr>\n",
       "      <th>1</th>\n",
       "      <td>Albania</td>\n",
       "      <td>2.8</td>\n",
       "      <td>83</td>\n",
       "      <td>2.964286e-05</td>\n",
       "    </tr>\n",
       "    <tr>\n",
       "      <th>2</th>\n",
       "      <td>Algeria</td>\n",
       "      <td>44.9</td>\n",
       "      <td>34</td>\n",
       "      <td>7.572383e-07</td>\n",
       "    </tr>\n",
       "    <tr>\n",
       "      <th>3</th>\n",
       "      <td>Andorra</td>\n",
       "      <td>0.1</td>\n",
       "      <td>10</td>\n",
       "      <td>1.000000e-04</td>\n",
       "    </tr>\n",
       "    <tr>\n",
       "      <th>4</th>\n",
       "      <td>Angola</td>\n",
       "      <td>35.6</td>\n",
       "      <td>42</td>\n",
       "      <td>1.179775e-06</td>\n",
       "    </tr>\n",
       "  </tbody>\n",
       "</table>\n",
       "</div>"
      ],
      "text/plain": [
       "       country  population  article_count  articles_per_capita\n",
       "0  Afghanistan        41.1            118         2.871046e-06\n",
       "1      Albania         2.8             83         2.964286e-05\n",
       "2      Algeria        44.9             34         7.572383e-07\n",
       "3      Andorra         0.1             10         1.000000e-04\n",
       "4       Angola        35.6             42         1.179775e-06"
      ]
     },
     "execution_count": 85,
     "metadata": {},
     "output_type": "execute_result"
    }
   ],
   "source": [
    "# Removing the duplicates for countries, \n",
    "# group the countries and aggregate population per region by counting number of articles, \n",
    "# calculate article_per_capita\n",
    "df1 = df_consolidated[~df_consolidated.duplicated(subset=['country', 'region'], keep = 'last')]\n",
    "\n",
    "# Calculating the population of each country\n",
    "country_pop = df1[['country', 'population']].groupby('country').sum().reset_index()\n",
    "country_article_cnt = df_consolidated[['country', 'article_title']].groupby('country').count().reset_index()\n",
    "total_articles_country = country_pop.merge(country_article_cnt, on='country')\n",
    "total_articles_country.columns=['country', 'population', 'article_count']\n",
    "total_articles_country['articles_per_capita'] = total_articles_country['article_count'] / (total_articles_country['population'] * 1000000)\n",
    "\n",
    "# handling for conditions where population is zero (6 countries)\n",
    "total_articles_country = total_articles_country[total_articles_country['articles_per_capita'] != np.inf] \n",
    "print('On a country level, the dataframe returns the below number of rows')\n",
    "print(len(total_articles_country['country'].unique()))\n",
    "total_articles_country.reset_index(inplace=True)\n",
    "total_articles_country = total_articles_country.drop('index', axis = 1)\n",
    "total_articles_country.head()"
   ]
  },
  {
   "cell_type": "markdown",
   "id": "e82bc66f",
   "metadata": {},
   "source": [
    "### By Region"
   ]
  },
  {
   "cell_type": "code",
   "execution_count": 42,
   "id": "e86a49c0",
   "metadata": {},
   "outputs": [
    {
     "name": "stdout",
     "output_type": "stream",
     "text": [
      "On a region level, the dataframe returns the below number of rows\n",
      "18\n"
     ]
    },
    {
     "data": {
      "text/html": [
       "<div>\n",
       "<style scoped>\n",
       "    .dataframe tbody tr th:only-of-type {\n",
       "        vertical-align: middle;\n",
       "    }\n",
       "\n",
       "    .dataframe tbody tr th {\n",
       "        vertical-align: top;\n",
       "    }\n",
       "\n",
       "    .dataframe thead th {\n",
       "        text-align: right;\n",
       "    }\n",
       "</style>\n",
       "<table border=\"1\" class=\"dataframe\">\n",
       "  <thead>\n",
       "    <tr style=\"text-align: right;\">\n",
       "      <th></th>\n",
       "      <th>region</th>\n",
       "      <th>population</th>\n",
       "      <th>article_count</th>\n",
       "      <th>articles_per_capita</th>\n",
       "    </tr>\n",
       "  </thead>\n",
       "  <tbody>\n",
       "    <tr>\n",
       "      <th>0</th>\n",
       "      <td>CARIBBEAN</td>\n",
       "      <td>39.5</td>\n",
       "      <td>201</td>\n",
       "      <td>5.088608e-06</td>\n",
       "    </tr>\n",
       "    <tr>\n",
       "      <th>1</th>\n",
       "      <td>CENTRAL AMERICA</td>\n",
       "      <td>177.9</td>\n",
       "      <td>195</td>\n",
       "      <td>1.096121e-06</td>\n",
       "    </tr>\n",
       "    <tr>\n",
       "      <th>2</th>\n",
       "      <td>CENTRAL ASIA</td>\n",
       "      <td>78.0</td>\n",
       "      <td>106</td>\n",
       "      <td>1.358974e-06</td>\n",
       "    </tr>\n",
       "    <tr>\n",
       "      <th>3</th>\n",
       "      <td>EAST ASIA</td>\n",
       "      <td>1665.8</td>\n",
       "      <td>246</td>\n",
       "      <td>1.476768e-07</td>\n",
       "    </tr>\n",
       "    <tr>\n",
       "      <th>4</th>\n",
       "      <td>EASTERN AFRICA</td>\n",
       "      <td>470.3</td>\n",
       "      <td>648</td>\n",
       "      <td>1.377844e-06</td>\n",
       "    </tr>\n",
       "  </tbody>\n",
       "</table>\n",
       "</div>"
      ],
      "text/plain": [
       "            region  population  article_count  articles_per_capita\n",
       "0        CARIBBEAN        39.5            201         5.088608e-06\n",
       "1  CENTRAL AMERICA       177.9            195         1.096121e-06\n",
       "2     CENTRAL ASIA        78.0            106         1.358974e-06\n",
       "3        EAST ASIA      1665.8            246         1.476768e-07\n",
       "4   EASTERN AFRICA       470.3            648         1.377844e-06"
      ]
     },
     "execution_count": 42,
     "metadata": {},
     "output_type": "execute_result"
    }
   ],
   "source": [
    "# Repeating the same as above but grouping by region in this case\n",
    "# Calculating the population of each country\n",
    "df2 = df_consolidated[~df_consolidated.duplicated(subset=['country', 'region'], keep = 'last')] \n",
    "\n",
    "region_pop = df2[['region', 'population']].groupby('region').sum().reset_index()\n",
    "region_article_cnt = df_consolidated[['region', 'article_title']].groupby('region').count().reset_index()\n",
    "total_articles_region = region_pop.merge(region_article_cnt, on='region')\n",
    "total_articles_region.columns=['region', 'population', 'article_count']\n",
    "total_articles_region['articles_per_capita'] = total_articles_region['article_count'] / (total_articles_region['population'] * 1000000)\n",
    " \n",
    "print('On a region level, the dataframe returns the below number of rows')\n",
    "print(len(total_articles_region['region'].unique()))\n",
    "total_articles_region.head()"
   ]
  },
  {
   "cell_type": "markdown",
   "id": "748d9740",
   "metadata": {},
   "source": [
    "## 4b) High Quality Articles per Population\n",
    "This applies to onlt the articles tagged with FA or GA in the \"article_quality\" column"
   ]
  },
  {
   "cell_type": "markdown",
   "id": "6ca8ac51",
   "metadata": {},
   "source": [
    "### By Country"
   ]
  },
  {
   "cell_type": "code",
   "execution_count": 63,
   "id": "f335448a",
   "metadata": {},
   "outputs": [
    {
     "name": "stdout",
     "output_type": "stream",
     "text": [
      "On a country level, the high quality dataframe returns the below number of rows\n",
      "92\n"
     ]
    },
    {
     "data": {
      "text/html": [
       "<div>\n",
       "<style scoped>\n",
       "    .dataframe tbody tr th:only-of-type {\n",
       "        vertical-align: middle;\n",
       "    }\n",
       "\n",
       "    .dataframe tbody tr th {\n",
       "        vertical-align: top;\n",
       "    }\n",
       "\n",
       "    .dataframe thead th {\n",
       "        text-align: right;\n",
       "    }\n",
       "</style>\n",
       "<table border=\"1\" class=\"dataframe\">\n",
       "  <thead>\n",
       "    <tr style=\"text-align: right;\">\n",
       "      <th></th>\n",
       "      <th>country</th>\n",
       "      <th>population</th>\n",
       "      <th>article_count</th>\n",
       "      <th>articles_per_capita</th>\n",
       "    </tr>\n",
       "  </thead>\n",
       "  <tbody>\n",
       "    <tr>\n",
       "      <th>0</th>\n",
       "      <td>Afghanistan</td>\n",
       "      <td>41.1</td>\n",
       "      <td>6</td>\n",
       "      <td>1.459854e-07</td>\n",
       "    </tr>\n",
       "    <tr>\n",
       "      <th>1</th>\n",
       "      <td>Albania</td>\n",
       "      <td>2.8</td>\n",
       "      <td>6</td>\n",
       "      <td>2.142857e-06</td>\n",
       "    </tr>\n",
       "    <tr>\n",
       "      <th>2</th>\n",
       "      <td>Andorra</td>\n",
       "      <td>0.1</td>\n",
       "      <td>2</td>\n",
       "      <td>2.000000e-05</td>\n",
       "    </tr>\n",
       "    <tr>\n",
       "      <th>3</th>\n",
       "      <td>Armenia</td>\n",
       "      <td>3.0</td>\n",
       "      <td>1</td>\n",
       "      <td>3.333333e-07</td>\n",
       "    </tr>\n",
       "    <tr>\n",
       "      <th>4</th>\n",
       "      <td>Azerbaijan</td>\n",
       "      <td>10.2</td>\n",
       "      <td>1</td>\n",
       "      <td>9.803922e-08</td>\n",
       "    </tr>\n",
       "  </tbody>\n",
       "</table>\n",
       "</div>"
      ],
      "text/plain": [
       "       country  population  article_count  articles_per_capita\n",
       "0  Afghanistan        41.1              6         1.459854e-07\n",
       "1      Albania         2.8              6         2.142857e-06\n",
       "2      Andorra         0.1              2         2.000000e-05\n",
       "3      Armenia         3.0              1         3.333333e-07\n",
       "4   Azerbaijan        10.2              1         9.803922e-08"
      ]
     },
     "execution_count": 63,
     "metadata": {},
     "output_type": "execute_result"
    }
   ],
   "source": [
    "# Filtering the article based on the artcile_quality attribute\n",
    "# Calculation for article_count and article_per_capita done the same as above i.e., group by country\n",
    "\n",
    "df3 = df_consolidated[~df_consolidated.duplicated(subset=['country', 'region'], keep = 'last')]\n",
    "\n",
    "country_pop = df3[['country', 'population']].groupby('country').sum().reset_index()\n",
    "hq_country_df = df_consolidated[(df_consolidated['article_quality'] == \n",
    "                                 'FA') | (df_consolidated['article_quality'] == 'GA')]\n",
    "\n",
    "country_count = hq_country_df[['country', 'article_title']].groupby('country').count().reset_index()\n",
    "hq_country_df = country_pop.merge(country_count, on='country')\n",
    "hq_country_df.columns=['country', 'population', 'article_count']\n",
    "hq_country_df['articles_per_capita'] = hq_country_df['article_count'] / (hq_country_df['population'] * 1000000)\n",
    "\n",
    "# Need to exclude conditions where the population of a country is zero\n",
    "hq_country_df = hq_country_df[hq_country_df['articles_per_capita'] != np.inf]\n",
    "hq_country_df.reset_index(inplace=True)\n",
    "hq_country_df.drop(columns=['index'], inplace=True)\n",
    "\n",
    "print('On a country level, the high quality dataframe returns the below number of rows')\n",
    "print(len(hq_country_df['country'].unique()))\n",
    "hq_country_df.head()"
   ]
  },
  {
   "cell_type": "markdown",
   "id": "4eaa0def",
   "metadata": {},
   "source": [
    "### By Region"
   ]
  },
  {
   "cell_type": "code",
   "execution_count": 64,
   "id": "9cd0dcaf",
   "metadata": {},
   "outputs": [
    {
     "name": "stdout",
     "output_type": "stream",
     "text": [
      "On a region level, the high quality dataframe returns the below number of rows\n",
      "18\n"
     ]
    },
    {
     "data": {
      "text/html": [
       "<div>\n",
       "<style scoped>\n",
       "    .dataframe tbody tr th:only-of-type {\n",
       "        vertical-align: middle;\n",
       "    }\n",
       "\n",
       "    .dataframe tbody tr th {\n",
       "        vertical-align: top;\n",
       "    }\n",
       "\n",
       "    .dataframe thead th {\n",
       "        text-align: right;\n",
       "    }\n",
       "</style>\n",
       "<table border=\"1\" class=\"dataframe\">\n",
       "  <thead>\n",
       "    <tr style=\"text-align: right;\">\n",
       "      <th></th>\n",
       "      <th>region</th>\n",
       "      <th>population</th>\n",
       "      <th>article_count</th>\n",
       "      <th>articles_per_capita</th>\n",
       "    </tr>\n",
       "  </thead>\n",
       "  <tbody>\n",
       "    <tr>\n",
       "      <th>0</th>\n",
       "      <td>CARIBBEAN</td>\n",
       "      <td>39.5</td>\n",
       "      <td>8</td>\n",
       "      <td>2.025316e-07</td>\n",
       "    </tr>\n",
       "    <tr>\n",
       "      <th>1</th>\n",
       "      <td>CENTRAL AMERICA</td>\n",
       "      <td>177.9</td>\n",
       "      <td>10</td>\n",
       "      <td>5.621135e-08</td>\n",
       "    </tr>\n",
       "    <tr>\n",
       "      <th>2</th>\n",
       "      <td>CENTRAL ASIA</td>\n",
       "      <td>78.0</td>\n",
       "      <td>3</td>\n",
       "      <td>3.846154e-08</td>\n",
       "    </tr>\n",
       "    <tr>\n",
       "      <th>3</th>\n",
       "      <td>EAST ASIA</td>\n",
       "      <td>1665.8</td>\n",
       "      <td>16</td>\n",
       "      <td>9.604995e-09</td>\n",
       "    </tr>\n",
       "    <tr>\n",
       "      <th>4</th>\n",
       "      <td>EASTERN AFRICA</td>\n",
       "      <td>470.3</td>\n",
       "      <td>15</td>\n",
       "      <td>3.189454e-08</td>\n",
       "    </tr>\n",
       "  </tbody>\n",
       "</table>\n",
       "</div>"
      ],
      "text/plain": [
       "            region  population  article_count  articles_per_capita\n",
       "0        CARIBBEAN        39.5              8         2.025316e-07\n",
       "1  CENTRAL AMERICA       177.9             10         5.621135e-08\n",
       "2     CENTRAL ASIA        78.0              3         3.846154e-08\n",
       "3        EAST ASIA      1665.8             16         9.604995e-09\n",
       "4   EASTERN AFRICA       470.3             15         3.189454e-08"
      ]
     },
     "execution_count": 64,
     "metadata": {},
     "output_type": "execute_result"
    }
   ],
   "source": [
    "# Filtering the article based on the artcile_quality attribute\n",
    "# Calculation for article_count and article_per_capita done the same as above i.e., group by region\n",
    "\n",
    "df4 = df_consolidated[~df_consolidated.duplicated(subset=['country', 'region'], keep = 'last')] \n",
    "region_pop = df4[['region', 'population']].groupby('region').sum().reset_index()\n",
    "\n",
    "hq_region_df = df_consolidated[(df_consolidated['article_quality'] == \n",
    "                                 'FA') | (df_consolidated['article_quality'] == 'GA')]\n",
    "region_count = hq_region_df[['region', 'article_title']].groupby('region').count().reset_index()\n",
    "hq_region_df = region_pop.merge(region_count, on='region')\n",
    "hq_region_df.columns=['region', 'population', 'article_count']\n",
    "hq_region_df['articles_per_capita'] = hq_region_df['article_count'] / (hq_region_df['population'] * 1000000)\n",
    "\n",
    "print('On a region level, the high quality dataframe returns the below number of rows')\n",
    "print(len(hq_region_df['region'].unique()))\n",
    "hq_region_df.head()"
   ]
  },
  {
   "cell_type": "markdown",
   "id": "08338594",
   "metadata": {},
   "source": [
    "# Step 5: Results\n",
    "Your results from this analysis will be produced in the form of data tables. You are being asked to produce six total tables, that show:  \n",
    "\n",
    "### 1. Top 10 countries by coverage: The 10 countries with the highest total articles per capita (in descending order) "
   ]
  },
  {
   "cell_type": "code",
   "execution_count": 65,
   "id": "b625d38f",
   "metadata": {},
   "outputs": [
    {
     "data": {
      "text/plain": [
       "0               Antigua and Barbuda\n",
       "1    Federated States of Micronesia\n",
       "2                           Andorra\n",
       "3                          Barbados\n",
       "4                  Marshall Islands\n",
       "5                        Montenegro\n",
       "6                        Seychelles\n",
       "7                        Luxembourg\n",
       "8                            Bhutan\n",
       "9                           Grenada\n",
       "Name: country, dtype: object"
      ]
     },
     "execution_count": 65,
     "metadata": {},
     "output_type": "execute_result"
    }
   ],
   "source": [
    "top10_country = total_articles_country.sort_values(by=['articles_per_capita'],\n",
    "                                                    ascending=False).head(10).reset_index()\n",
    "top10_country['country']"
   ]
  },
  {
   "cell_type": "markdown",
   "id": "58b46086",
   "metadata": {},
   "source": [
    "### 2. Bottom 10 countries by coverage: The 10 countries with the lowest total articles per capita (in ascending order) "
   ]
  },
  {
   "cell_type": "code",
   "execution_count": 66,
   "id": "03f6ed99",
   "metadata": {},
   "outputs": [
    {
     "data": {
      "text/plain": [
       "0           China\n",
       "1          Mexico\n",
       "2    Saudi Arabia\n",
       "3         Romania\n",
       "4           India\n",
       "5       Sri Lanka\n",
       "6           Egypt\n",
       "7        Ethiopia\n",
       "8          Taiwan\n",
       "9         Vietnam\n",
       "Name: country, dtype: object"
      ]
     },
     "execution_count": 66,
     "metadata": {},
     "output_type": "execute_result"
    }
   ],
   "source": [
    "bottom10_country = total_articles_country.sort_values(by=['articles_per_capita'],\n",
    "                                                    ascending=True).head(10).reset_index()\n",
    "bottom10_country['country']"
   ]
  },
  {
   "cell_type": "markdown",
   "id": "3d3b3b51",
   "metadata": {},
   "source": [
    "### 3. Top 10 countries by high quality: The 10 countries with the highest high quality articles per capita (in descending order) "
   ]
  },
  {
   "cell_type": "code",
   "execution_count": 67,
   "id": "1a9073ed",
   "metadata": {},
   "outputs": [
    {
     "data": {
      "text/plain": [
       "0                  Andorra\n",
       "1               Montenegro\n",
       "2                  Albania\n",
       "3                 Suriname\n",
       "4       Bosnia-Herzegovina\n",
       "5                Lithuania\n",
       "6                  Croatia\n",
       "7                 Slovenia\n",
       "8    Palestinian Territory\n",
       "9                    Gabon\n",
       "Name: country, dtype: object"
      ]
     },
     "execution_count": 67,
     "metadata": {},
     "output_type": "execute_result"
    }
   ],
   "source": [
    "top10_hq_country = hq_country_df.sort_values(by=['articles_per_capita'],\n",
    "                                             ascending=False).head(10).reset_index()\n",
    "top10_hq_country['country']"
   ]
  },
  {
   "cell_type": "markdown",
   "id": "dd20f0d2",
   "metadata": {},
   "source": [
    "### 4. Bottom 10 countries by high quality: The 10 countries with the lowest high quality articles per capita (in ascending order)"
   ]
  },
  {
   "cell_type": "code",
   "execution_count": 68,
   "id": "d1a0576d",
   "metadata": {},
   "outputs": [
    {
     "data": {
      "text/plain": [
       "0       India\n",
       "1    Thailand\n",
       "2       Japan\n",
       "3     Nigeria\n",
       "4     Vietnam\n",
       "5    Colombia\n",
       "6      Uganda\n",
       "7    Pakistan\n",
       "8       Sudan\n",
       "9        Iran\n",
       "Name: country, dtype: object"
      ]
     },
     "execution_count": 68,
     "metadata": {},
     "output_type": "execute_result"
    }
   ],
   "source": [
    "bottom10_hq_country = hq_country_df.sort_values(by=['articles_per_capita'],\n",
    "                                             ascending=True).head(10).reset_index()\n",
    "bottom10_hq_country['country']"
   ]
  },
  {
   "cell_type": "markdown",
   "id": "3d73fb1c",
   "metadata": {},
   "source": [
    "### 5. Geographic regions by total coverage: A rank ordered list of geographic regions (in descending order) by total articles per capita."
   ]
  },
  {
   "cell_type": "code",
   "execution_count": 69,
   "id": "484b0d1a",
   "metadata": {},
   "outputs": [
    {
     "data": {
      "text/plain": [
       "0     NORTHERN EUROPE\n",
       "1             OCEANIA\n",
       "2     SOUTHERN EUROPE\n",
       "3           CARIBBEAN\n",
       "4      WESTERN EUROPE\n",
       "5      EASTERN EUROPE\n",
       "6        WESTERN ASIA\n",
       "7     SOUTHERN AFRICA\n",
       "8      EASTERN AFRICA\n",
       "9        CENTRAL ASIA\n",
       "10      SOUTH AMERICA\n",
       "11     WESTERN AFRICA\n",
       "12    CENTRAL AMERICA\n",
       "13      MIDDLE AFRICA\n",
       "14    NORTHERN AFRICA\n",
       "15     SOUTHEAST ASIA\n",
       "16         SOUTH ASIA\n",
       "17          EAST ASIA\n",
       "Name: region, dtype: object"
      ]
     },
     "execution_count": 69,
     "metadata": {},
     "output_type": "execute_result"
    }
   ],
   "source": [
    "geo_coverage = total_articles_region.sort_values(by=['articles_per_capita'],\n",
    "                                                ascending=False).reset_index()\n",
    "geo_coverage['region']"
   ]
  },
  {
   "cell_type": "markdown",
   "id": "d73f387c",
   "metadata": {},
   "source": [
    "### 6. Geographic regions by high quality coverage: Rank ordered list of geographic regions (in descending order) by high quality articles per capita."
   ]
  },
  {
   "cell_type": "code",
   "execution_count": 70,
   "id": "2dd6bcdc",
   "metadata": {},
   "outputs": [
    {
     "data": {
      "text/plain": [
       "0     SOUTHERN EUROPE\n",
       "1     NORTHERN EUROPE\n",
       "2           CARIBBEAN\n",
       "3             OCEANIA\n",
       "4      EASTERN EUROPE\n",
       "5      WESTERN EUROPE\n",
       "6        WESTERN ASIA\n",
       "7     SOUTHERN AFRICA\n",
       "8     CENTRAL AMERICA\n",
       "9      SOUTHEAST ASIA\n",
       "10       CENTRAL ASIA\n",
       "11     EASTERN AFRICA\n",
       "12     WESTERN AFRICA\n",
       "13      SOUTH AMERICA\n",
       "14    NORTHERN AFRICA\n",
       "15      MIDDLE AFRICA\n",
       "16         SOUTH ASIA\n",
       "17          EAST ASIA\n",
       "Name: region, dtype: object"
      ]
     },
     "execution_count": 70,
     "metadata": {},
     "output_type": "execute_result"
    }
   ],
   "source": [
    "geo_hq_coverage = hq_region_df.sort_values(by=['articles_per_capita'],\n",
    "                                           ascending=False).reset_index()\n",
    "geo_hq_coverage['region']"
   ]
  }
 ],
 "metadata": {
  "kernelspec": {
   "display_name": "Python 3",
   "language": "python",
   "name": "python3"
  },
  "language_info": {
   "codemirror_mode": {
    "name": "ipython",
    "version": 3
   },
   "file_extension": ".py",
   "mimetype": "text/x-python",
   "name": "python",
   "nbconvert_exporter": "python",
   "pygments_lexer": "ipython3",
   "version": "3.8.8"
  }
 },
 "nbformat": 4,
 "nbformat_minor": 5
}
